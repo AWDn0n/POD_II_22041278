{
 "cells": [
  {
   "cell_type": "markdown",
   "id": "5fc6305a",
   "metadata": {},
   "source": [
    "# LIMPIEZA DE DATOS"
   ]
  },
  {
   "cell_type": "markdown",
   "id": "84c0036b",
   "metadata": {},
   "source": [
    "En este documento se encuentra todo el manejo de los datos para luego poder tratar con ellos:\n",
    ">1. [Importación de datos](#importacion)\n",
    "2. [Investigación de datos](#investigacion)\n",
    "3. [Pérdida de datos](#perdida)\n",
    "4. [Limpieza de datos](#limpieza)\n",
    "5. [Exportación CSV nuevos](#exportacion)\n",
    "6. [Exploratory Data Analysis](#EDA)"
   ]
  },
  {
   "cell_type": "markdown",
   "id": "d99074d2",
   "metadata": {},
   "source": [
    "# <a name='importacion'><font color=colorMarkdown.MAGENTA>1. IMPORTACIÓN DATOS</font></a>"
   ]
  },
  {
   "cell_type": "markdown",
   "id": "0b5c9266",
   "metadata": {},
   "source": [
    "Importamos librerías"
   ]
  },
  {
   "cell_type": "code",
   "execution_count": 1,
   "id": "2fe4d4c0",
   "metadata": {},
   "outputs": [],
   "source": [
    "#librería para el cálculo numérico y el análisis de datos\n",
    "import numpy as np\n",
    "#librería para el manejo y análisis de estructuras de datos\n",
    "import pandas as pd\n",
    "#librería para hacer tablas\n",
    "from tabulate import tabulate #pip install tabulate\n",
    "#librería para ver datos nulos\n",
    "import missingno as msno #pip install missingno\n",
    "#librería para la generación de números aleatorios\n",
    "import random as rd"
   ]
  },
  {
   "cell_type": "markdown",
   "id": "81aa1f00",
   "metadata": {},
   "source": [
    "Importamos los datos"
   ]
  },
  {
   "cell_type": "code",
   "execution_count": 2,
   "id": "b97aeedb",
   "metadata": {},
   "outputs": [],
   "source": [
    "df_travel = pd.read_csv('datasets_Inicial/Travel.csv')"
   ]
  },
  {
   "cell_type": "markdown",
   "id": "4ce8be7e",
   "metadata": {},
   "source": [
    "# <a name='investigacion'><font color=colorMarkdown.MAGENTA>2. INVESTIGACIÓN DE DATOS</font></a>"
   ]
  },
  {
   "cell_type": "code",
   "execution_count": 3,
   "id": "f9261b21",
   "metadata": {},
   "outputs": [
    {
     "data": {
      "text/html": [
       "<div>\n",
       "<style scoped>\n",
       "    .dataframe tbody tr th:only-of-type {\n",
       "        vertical-align: middle;\n",
       "    }\n",
       "\n",
       "    .dataframe tbody tr th {\n",
       "        vertical-align: top;\n",
       "    }\n",
       "\n",
       "    .dataframe thead th {\n",
       "        text-align: right;\n",
       "    }\n",
       "</style>\n",
       "<table border=\"1\" class=\"dataframe\">\n",
       "  <thead>\n",
       "    <tr style=\"text-align: right;\">\n",
       "      <th></th>\n",
       "      <th>CustomerID</th>\n",
       "      <th>ProdTaken</th>\n",
       "      <th>Age</th>\n",
       "      <th>TypeofContact</th>\n",
       "      <th>CityTier</th>\n",
       "      <th>DurationOfPitch</th>\n",
       "      <th>Occupation</th>\n",
       "      <th>Gender</th>\n",
       "      <th>NumberOfPersonVisiting</th>\n",
       "      <th>NumberOfFollowups</th>\n",
       "      <th>ProductPitched</th>\n",
       "      <th>PreferredPropertyStar</th>\n",
       "      <th>MaritalStatus</th>\n",
       "      <th>NumberOfTrips</th>\n",
       "      <th>Passport</th>\n",
       "      <th>PitchSatisfactionScore</th>\n",
       "      <th>OwnCar</th>\n",
       "      <th>NumberOfChildrenVisiting</th>\n",
       "      <th>Designation</th>\n",
       "      <th>MonthlyIncome</th>\n",
       "    </tr>\n",
       "  </thead>\n",
       "  <tbody>\n",
       "    <tr>\n",
       "      <th>0</th>\n",
       "      <td>200000</td>\n",
       "      <td>1</td>\n",
       "      <td>41.0</td>\n",
       "      <td>Self Enquiry</td>\n",
       "      <td>3</td>\n",
       "      <td>6.0</td>\n",
       "      <td>Salaried</td>\n",
       "      <td>Female</td>\n",
       "      <td>3</td>\n",
       "      <td>3.0</td>\n",
       "      <td>Deluxe</td>\n",
       "      <td>3.0</td>\n",
       "      <td>Single</td>\n",
       "      <td>1.0</td>\n",
       "      <td>1</td>\n",
       "      <td>2</td>\n",
       "      <td>1</td>\n",
       "      <td>0.0</td>\n",
       "      <td>Manager</td>\n",
       "      <td>20993.0</td>\n",
       "    </tr>\n",
       "    <tr>\n",
       "      <th>1</th>\n",
       "      <td>200001</td>\n",
       "      <td>0</td>\n",
       "      <td>49.0</td>\n",
       "      <td>Company Invited</td>\n",
       "      <td>1</td>\n",
       "      <td>14.0</td>\n",
       "      <td>Salaried</td>\n",
       "      <td>Male</td>\n",
       "      <td>3</td>\n",
       "      <td>4.0</td>\n",
       "      <td>Deluxe</td>\n",
       "      <td>4.0</td>\n",
       "      <td>Divorced</td>\n",
       "      <td>2.0</td>\n",
       "      <td>0</td>\n",
       "      <td>3</td>\n",
       "      <td>1</td>\n",
       "      <td>2.0</td>\n",
       "      <td>Manager</td>\n",
       "      <td>20130.0</td>\n",
       "    </tr>\n",
       "    <tr>\n",
       "      <th>2</th>\n",
       "      <td>200002</td>\n",
       "      <td>1</td>\n",
       "      <td>37.0</td>\n",
       "      <td>Self Enquiry</td>\n",
       "      <td>1</td>\n",
       "      <td>8.0</td>\n",
       "      <td>Free Lancer</td>\n",
       "      <td>Male</td>\n",
       "      <td>3</td>\n",
       "      <td>4.0</td>\n",
       "      <td>Basic</td>\n",
       "      <td>3.0</td>\n",
       "      <td>Single</td>\n",
       "      <td>7.0</td>\n",
       "      <td>1</td>\n",
       "      <td>3</td>\n",
       "      <td>0</td>\n",
       "      <td>0.0</td>\n",
       "      <td>Executive</td>\n",
       "      <td>17090.0</td>\n",
       "    </tr>\n",
       "    <tr>\n",
       "      <th>3</th>\n",
       "      <td>200003</td>\n",
       "      <td>0</td>\n",
       "      <td>33.0</td>\n",
       "      <td>Company Invited</td>\n",
       "      <td>1</td>\n",
       "      <td>9.0</td>\n",
       "      <td>Salaried</td>\n",
       "      <td>Female</td>\n",
       "      <td>2</td>\n",
       "      <td>3.0</td>\n",
       "      <td>Basic</td>\n",
       "      <td>3.0</td>\n",
       "      <td>Divorced</td>\n",
       "      <td>2.0</td>\n",
       "      <td>1</td>\n",
       "      <td>5</td>\n",
       "      <td>1</td>\n",
       "      <td>1.0</td>\n",
       "      <td>Executive</td>\n",
       "      <td>17909.0</td>\n",
       "    </tr>\n",
       "    <tr>\n",
       "      <th>4</th>\n",
       "      <td>200004</td>\n",
       "      <td>0</td>\n",
       "      <td>NaN</td>\n",
       "      <td>Self Enquiry</td>\n",
       "      <td>1</td>\n",
       "      <td>8.0</td>\n",
       "      <td>Small Business</td>\n",
       "      <td>Male</td>\n",
       "      <td>2</td>\n",
       "      <td>3.0</td>\n",
       "      <td>Basic</td>\n",
       "      <td>4.0</td>\n",
       "      <td>Divorced</td>\n",
       "      <td>1.0</td>\n",
       "      <td>0</td>\n",
       "      <td>5</td>\n",
       "      <td>1</td>\n",
       "      <td>0.0</td>\n",
       "      <td>Executive</td>\n",
       "      <td>18468.0</td>\n",
       "    </tr>\n",
       "    <tr>\n",
       "      <th>5</th>\n",
       "      <td>200005</td>\n",
       "      <td>0</td>\n",
       "      <td>32.0</td>\n",
       "      <td>Company Invited</td>\n",
       "      <td>1</td>\n",
       "      <td>8.0</td>\n",
       "      <td>Salaried</td>\n",
       "      <td>Male</td>\n",
       "      <td>3</td>\n",
       "      <td>3.0</td>\n",
       "      <td>Basic</td>\n",
       "      <td>3.0</td>\n",
       "      <td>Single</td>\n",
       "      <td>1.0</td>\n",
       "      <td>0</td>\n",
       "      <td>5</td>\n",
       "      <td>1</td>\n",
       "      <td>1.0</td>\n",
       "      <td>Executive</td>\n",
       "      <td>18068.0</td>\n",
       "    </tr>\n",
       "    <tr>\n",
       "      <th>6</th>\n",
       "      <td>200006</td>\n",
       "      <td>0</td>\n",
       "      <td>59.0</td>\n",
       "      <td>Self Enquiry</td>\n",
       "      <td>1</td>\n",
       "      <td>9.0</td>\n",
       "      <td>Small Business</td>\n",
       "      <td>Female</td>\n",
       "      <td>2</td>\n",
       "      <td>2.0</td>\n",
       "      <td>Basic</td>\n",
       "      <td>5.0</td>\n",
       "      <td>Divorced</td>\n",
       "      <td>5.0</td>\n",
       "      <td>1</td>\n",
       "      <td>2</td>\n",
       "      <td>1</td>\n",
       "      <td>1.0</td>\n",
       "      <td>Executive</td>\n",
       "      <td>17670.0</td>\n",
       "    </tr>\n",
       "    <tr>\n",
       "      <th>7</th>\n",
       "      <td>200007</td>\n",
       "      <td>0</td>\n",
       "      <td>30.0</td>\n",
       "      <td>Self Enquiry</td>\n",
       "      <td>1</td>\n",
       "      <td>30.0</td>\n",
       "      <td>Salaried</td>\n",
       "      <td>Male</td>\n",
       "      <td>3</td>\n",
       "      <td>3.0</td>\n",
       "      <td>Basic</td>\n",
       "      <td>3.0</td>\n",
       "      <td>Married</td>\n",
       "      <td>2.0</td>\n",
       "      <td>0</td>\n",
       "      <td>2</td>\n",
       "      <td>0</td>\n",
       "      <td>1.0</td>\n",
       "      <td>Executive</td>\n",
       "      <td>17693.0</td>\n",
       "    </tr>\n",
       "    <tr>\n",
       "      <th>8</th>\n",
       "      <td>200008</td>\n",
       "      <td>0</td>\n",
       "      <td>38.0</td>\n",
       "      <td>Company Invited</td>\n",
       "      <td>1</td>\n",
       "      <td>29.0</td>\n",
       "      <td>Salaried</td>\n",
       "      <td>Male</td>\n",
       "      <td>2</td>\n",
       "      <td>4.0</td>\n",
       "      <td>Standard</td>\n",
       "      <td>3.0</td>\n",
       "      <td>Unmarried</td>\n",
       "      <td>1.0</td>\n",
       "      <td>0</td>\n",
       "      <td>3</td>\n",
       "      <td>0</td>\n",
       "      <td>0.0</td>\n",
       "      <td>Senior Manager</td>\n",
       "      <td>24526.0</td>\n",
       "    </tr>\n",
       "    <tr>\n",
       "      <th>9</th>\n",
       "      <td>200009</td>\n",
       "      <td>0</td>\n",
       "      <td>36.0</td>\n",
       "      <td>Self Enquiry</td>\n",
       "      <td>1</td>\n",
       "      <td>33.0</td>\n",
       "      <td>Small Business</td>\n",
       "      <td>Male</td>\n",
       "      <td>3</td>\n",
       "      <td>3.0</td>\n",
       "      <td>Deluxe</td>\n",
       "      <td>3.0</td>\n",
       "      <td>Divorced</td>\n",
       "      <td>7.0</td>\n",
       "      <td>0</td>\n",
       "      <td>3</td>\n",
       "      <td>1</td>\n",
       "      <td>0.0</td>\n",
       "      <td>Manager</td>\n",
       "      <td>20237.0</td>\n",
       "    </tr>\n",
       "    <tr>\n",
       "      <th>10</th>\n",
       "      <td>200010</td>\n",
       "      <td>0</td>\n",
       "      <td>35.0</td>\n",
       "      <td>Self Enquiry</td>\n",
       "      <td>1</td>\n",
       "      <td>22.0</td>\n",
       "      <td>Small Business</td>\n",
       "      <td>Male</td>\n",
       "      <td>2</td>\n",
       "      <td>2.0</td>\n",
       "      <td>Basic</td>\n",
       "      <td>4.0</td>\n",
       "      <td>Divorced</td>\n",
       "      <td>1.0</td>\n",
       "      <td>0</td>\n",
       "      <td>3</td>\n",
       "      <td>1</td>\n",
       "      <td>1.0</td>\n",
       "      <td>Executive</td>\n",
       "      <td>17426.0</td>\n",
       "    </tr>\n",
       "    <tr>\n",
       "      <th>11</th>\n",
       "      <td>200011</td>\n",
       "      <td>0</td>\n",
       "      <td>NaN</td>\n",
       "      <td>Self Enquiry</td>\n",
       "      <td>1</td>\n",
       "      <td>21.0</td>\n",
       "      <td>Salaried</td>\n",
       "      <td>Female</td>\n",
       "      <td>2</td>\n",
       "      <td>4.0</td>\n",
       "      <td>Deluxe</td>\n",
       "      <td>3.0</td>\n",
       "      <td>Single</td>\n",
       "      <td>1.0</td>\n",
       "      <td>1</td>\n",
       "      <td>3</td>\n",
       "      <td>0</td>\n",
       "      <td>0.0</td>\n",
       "      <td>Manager</td>\n",
       "      <td>NaN</td>\n",
       "    </tr>\n",
       "    <tr>\n",
       "      <th>12</th>\n",
       "      <td>200012</td>\n",
       "      <td>0</td>\n",
       "      <td>31.0</td>\n",
       "      <td>Self Enquiry</td>\n",
       "      <td>1</td>\n",
       "      <td>32.0</td>\n",
       "      <td>Salaried</td>\n",
       "      <td>Male</td>\n",
       "      <td>2</td>\n",
       "      <td>3.0</td>\n",
       "      <td>Basic</td>\n",
       "      <td>3.0</td>\n",
       "      <td>Married</td>\n",
       "      <td>2.0</td>\n",
       "      <td>0</td>\n",
       "      <td>3</td>\n",
       "      <td>0</td>\n",
       "      <td>1.0</td>\n",
       "      <td>Executive</td>\n",
       "      <td>17911.0</td>\n",
       "    </tr>\n",
       "    <tr>\n",
       "      <th>13</th>\n",
       "      <td>200013</td>\n",
       "      <td>0</td>\n",
       "      <td>34.0</td>\n",
       "      <td>Self Enquiry</td>\n",
       "      <td>1</td>\n",
       "      <td>25.0</td>\n",
       "      <td>Small Business</td>\n",
       "      <td>Male</td>\n",
       "      <td>3</td>\n",
       "      <td>3.0</td>\n",
       "      <td>Basic</td>\n",
       "      <td>3.0</td>\n",
       "      <td>Married</td>\n",
       "      <td>1.0</td>\n",
       "      <td>0</td>\n",
       "      <td>3</td>\n",
       "      <td>0</td>\n",
       "      <td>2.0</td>\n",
       "      <td>Executive</td>\n",
       "      <td>17661.0</td>\n",
       "    </tr>\n",
       "    <tr>\n",
       "      <th>14</th>\n",
       "      <td>200014</td>\n",
       "      <td>1</td>\n",
       "      <td>28.0</td>\n",
       "      <td>Self Enquiry</td>\n",
       "      <td>1</td>\n",
       "      <td>30.0</td>\n",
       "      <td>Salaried</td>\n",
       "      <td>Male</td>\n",
       "      <td>2</td>\n",
       "      <td>4.0</td>\n",
       "      <td>Basic</td>\n",
       "      <td>3.0</td>\n",
       "      <td>Single</td>\n",
       "      <td>6.0</td>\n",
       "      <td>1</td>\n",
       "      <td>2</td>\n",
       "      <td>0</td>\n",
       "      <td>0.0</td>\n",
       "      <td>Executive</td>\n",
       "      <td>17028.0</td>\n",
       "    </tr>\n",
       "    <tr>\n",
       "      <th>15</th>\n",
       "      <td>200015</td>\n",
       "      <td>0</td>\n",
       "      <td>29.0</td>\n",
       "      <td>Self Enquiry</td>\n",
       "      <td>1</td>\n",
       "      <td>27.0</td>\n",
       "      <td>Salaried</td>\n",
       "      <td>Female</td>\n",
       "      <td>2</td>\n",
       "      <td>2.0</td>\n",
       "      <td>Standard</td>\n",
       "      <td>5.0</td>\n",
       "      <td>Married</td>\n",
       "      <td>2.0</td>\n",
       "      <td>0</td>\n",
       "      <td>5</td>\n",
       "      <td>1</td>\n",
       "      <td>1.0</td>\n",
       "      <td>Senior Manager</td>\n",
       "      <td>24980.0</td>\n",
       "    </tr>\n",
       "    <tr>\n",
       "      <th>16</th>\n",
       "      <td>200016</td>\n",
       "      <td>0</td>\n",
       "      <td>32.0</td>\n",
       "      <td>Self Enquiry</td>\n",
       "      <td>1</td>\n",
       "      <td>11.0</td>\n",
       "      <td>Salaried</td>\n",
       "      <td>Male</td>\n",
       "      <td>3</td>\n",
       "      <td>2.0</td>\n",
       "      <td>Basic</td>\n",
       "      <td>4.0</td>\n",
       "      <td>Married</td>\n",
       "      <td>1.0</td>\n",
       "      <td>1</td>\n",
       "      <td>2</td>\n",
       "      <td>1</td>\n",
       "      <td>0.0</td>\n",
       "      <td>Executive</td>\n",
       "      <td>18298.0</td>\n",
       "    </tr>\n",
       "    <tr>\n",
       "      <th>17</th>\n",
       "      <td>200017</td>\n",
       "      <td>0</td>\n",
       "      <td>22.0</td>\n",
       "      <td>Company Invited</td>\n",
       "      <td>1</td>\n",
       "      <td>22.0</td>\n",
       "      <td>Small Business</td>\n",
       "      <td>Male</td>\n",
       "      <td>3</td>\n",
       "      <td>2.0</td>\n",
       "      <td>Basic</td>\n",
       "      <td>3.0</td>\n",
       "      <td>Married</td>\n",
       "      <td>2.0</td>\n",
       "      <td>1</td>\n",
       "      <td>3</td>\n",
       "      <td>0</td>\n",
       "      <td>0.0</td>\n",
       "      <td>Executive</td>\n",
       "      <td>17935.0</td>\n",
       "    </tr>\n",
       "    <tr>\n",
       "      <th>18</th>\n",
       "      <td>200018</td>\n",
       "      <td>0</td>\n",
       "      <td>53.0</td>\n",
       "      <td>Self Enquiry</td>\n",
       "      <td>3</td>\n",
       "      <td>8.0</td>\n",
       "      <td>Salaried</td>\n",
       "      <td>Female</td>\n",
       "      <td>3</td>\n",
       "      <td>4.0</td>\n",
       "      <td>Super Deluxe</td>\n",
       "      <td>3.0</td>\n",
       "      <td>Divorced</td>\n",
       "      <td>3.0</td>\n",
       "      <td>0</td>\n",
       "      <td>3</td>\n",
       "      <td>1</td>\n",
       "      <td>0.0</td>\n",
       "      <td>AVP</td>\n",
       "      <td>30427.0</td>\n",
       "    </tr>\n",
       "    <tr>\n",
       "      <th>19</th>\n",
       "      <td>200019</td>\n",
       "      <td>0</td>\n",
       "      <td>NaN</td>\n",
       "      <td>Self Enquiry</td>\n",
       "      <td>1</td>\n",
       "      <td>8.0</td>\n",
       "      <td>Salaried</td>\n",
       "      <td>Male</td>\n",
       "      <td>2</td>\n",
       "      <td>3.0</td>\n",
       "      <td>Basic</td>\n",
       "      <td>3.0</td>\n",
       "      <td>Single</td>\n",
       "      <td>6.0</td>\n",
       "      <td>1</td>\n",
       "      <td>4</td>\n",
       "      <td>0</td>\n",
       "      <td>1.0</td>\n",
       "      <td>Executive</td>\n",
       "      <td>NaN</td>\n",
       "    </tr>\n",
       "  </tbody>\n",
       "</table>\n",
       "</div>"
      ],
      "text/plain": [
       "    CustomerID  ProdTaken   Age    TypeofContact  CityTier  DurationOfPitch  \\\n",
       "0       200000          1  41.0     Self Enquiry         3              6.0   \n",
       "1       200001          0  49.0  Company Invited         1             14.0   \n",
       "2       200002          1  37.0     Self Enquiry         1              8.0   \n",
       "3       200003          0  33.0  Company Invited         1              9.0   \n",
       "4       200004          0   NaN     Self Enquiry         1              8.0   \n",
       "5       200005          0  32.0  Company Invited         1              8.0   \n",
       "6       200006          0  59.0     Self Enquiry         1              9.0   \n",
       "7       200007          0  30.0     Self Enquiry         1             30.0   \n",
       "8       200008          0  38.0  Company Invited         1             29.0   \n",
       "9       200009          0  36.0     Self Enquiry         1             33.0   \n",
       "10      200010          0  35.0     Self Enquiry         1             22.0   \n",
       "11      200011          0   NaN     Self Enquiry         1             21.0   \n",
       "12      200012          0  31.0     Self Enquiry         1             32.0   \n",
       "13      200013          0  34.0     Self Enquiry         1             25.0   \n",
       "14      200014          1  28.0     Self Enquiry         1             30.0   \n",
       "15      200015          0  29.0     Self Enquiry         1             27.0   \n",
       "16      200016          0  32.0     Self Enquiry         1             11.0   \n",
       "17      200017          0  22.0  Company Invited         1             22.0   \n",
       "18      200018          0  53.0     Self Enquiry         3              8.0   \n",
       "19      200019          0   NaN     Self Enquiry         1              8.0   \n",
       "\n",
       "        Occupation  Gender  NumberOfPersonVisiting  NumberOfFollowups  \\\n",
       "0         Salaried  Female                       3                3.0   \n",
       "1         Salaried    Male                       3                4.0   \n",
       "2      Free Lancer    Male                       3                4.0   \n",
       "3         Salaried  Female                       2                3.0   \n",
       "4   Small Business    Male                       2                3.0   \n",
       "5         Salaried    Male                       3                3.0   \n",
       "6   Small Business  Female                       2                2.0   \n",
       "7         Salaried    Male                       3                3.0   \n",
       "8         Salaried    Male                       2                4.0   \n",
       "9   Small Business    Male                       3                3.0   \n",
       "10  Small Business    Male                       2                2.0   \n",
       "11        Salaried  Female                       2                4.0   \n",
       "12        Salaried    Male                       2                3.0   \n",
       "13  Small Business    Male                       3                3.0   \n",
       "14        Salaried    Male                       2                4.0   \n",
       "15        Salaried  Female                       2                2.0   \n",
       "16        Salaried    Male                       3                2.0   \n",
       "17  Small Business    Male                       3                2.0   \n",
       "18        Salaried  Female                       3                4.0   \n",
       "19        Salaried    Male                       2                3.0   \n",
       "\n",
       "   ProductPitched  PreferredPropertyStar MaritalStatus  NumberOfTrips  \\\n",
       "0          Deluxe                    3.0        Single            1.0   \n",
       "1          Deluxe                    4.0      Divorced            2.0   \n",
       "2           Basic                    3.0        Single            7.0   \n",
       "3           Basic                    3.0      Divorced            2.0   \n",
       "4           Basic                    4.0      Divorced            1.0   \n",
       "5           Basic                    3.0        Single            1.0   \n",
       "6           Basic                    5.0      Divorced            5.0   \n",
       "7           Basic                    3.0       Married            2.0   \n",
       "8        Standard                    3.0     Unmarried            1.0   \n",
       "9          Deluxe                    3.0      Divorced            7.0   \n",
       "10          Basic                    4.0      Divorced            1.0   \n",
       "11         Deluxe                    3.0        Single            1.0   \n",
       "12          Basic                    3.0       Married            2.0   \n",
       "13          Basic                    3.0       Married            1.0   \n",
       "14          Basic                    3.0        Single            6.0   \n",
       "15       Standard                    5.0       Married            2.0   \n",
       "16          Basic                    4.0       Married            1.0   \n",
       "17          Basic                    3.0       Married            2.0   \n",
       "18   Super Deluxe                    3.0      Divorced            3.0   \n",
       "19          Basic                    3.0        Single            6.0   \n",
       "\n",
       "    Passport  PitchSatisfactionScore  OwnCar  NumberOfChildrenVisiting  \\\n",
       "0          1                       2       1                       0.0   \n",
       "1          0                       3       1                       2.0   \n",
       "2          1                       3       0                       0.0   \n",
       "3          1                       5       1                       1.0   \n",
       "4          0                       5       1                       0.0   \n",
       "5          0                       5       1                       1.0   \n",
       "6          1                       2       1                       1.0   \n",
       "7          0                       2       0                       1.0   \n",
       "8          0                       3       0                       0.0   \n",
       "9          0                       3       1                       0.0   \n",
       "10         0                       3       1                       1.0   \n",
       "11         1                       3       0                       0.0   \n",
       "12         0                       3       0                       1.0   \n",
       "13         0                       3       0                       2.0   \n",
       "14         1                       2       0                       0.0   \n",
       "15         0                       5       1                       1.0   \n",
       "16         1                       2       1                       0.0   \n",
       "17         1                       3       0                       0.0   \n",
       "18         0                       3       1                       0.0   \n",
       "19         1                       4       0                       1.0   \n",
       "\n",
       "       Designation  MonthlyIncome  \n",
       "0          Manager        20993.0  \n",
       "1          Manager        20130.0  \n",
       "2        Executive        17090.0  \n",
       "3        Executive        17909.0  \n",
       "4        Executive        18468.0  \n",
       "5        Executive        18068.0  \n",
       "6        Executive        17670.0  \n",
       "7        Executive        17693.0  \n",
       "8   Senior Manager        24526.0  \n",
       "9          Manager        20237.0  \n",
       "10       Executive        17426.0  \n",
       "11         Manager            NaN  \n",
       "12       Executive        17911.0  \n",
       "13       Executive        17661.0  \n",
       "14       Executive        17028.0  \n",
       "15  Senior Manager        24980.0  \n",
       "16       Executive        18298.0  \n",
       "17       Executive        17935.0  \n",
       "18             AVP        30427.0  \n",
       "19       Executive            NaN  "
      ]
     },
     "execution_count": 3,
     "metadata": {},
     "output_type": "execute_result"
    }
   ],
   "source": [
    "df_travel.head(20)"
   ]
  },
  {
   "cell_type": "markdown",
   "id": "ff91a66d",
   "metadata": {},
   "source": [
    "Ojeada general al df"
   ]
  },
  {
   "cell_type": "code",
   "execution_count": 4,
   "id": "24fe9c37",
   "metadata": {},
   "outputs": [
    {
     "name": "stdout",
     "output_type": "stream",
     "text": [
      "<class 'pandas.core.frame.DataFrame'>\n",
      "RangeIndex: 4888 entries, 0 to 4887\n",
      "Data columns (total 20 columns):\n",
      " #   Column                    Non-Null Count  Dtype  \n",
      "---  ------                    --------------  -----  \n",
      " 0   CustomerID                4888 non-null   int64  \n",
      " 1   ProdTaken                 4888 non-null   int64  \n",
      " 2   Age                       4662 non-null   float64\n",
      " 3   TypeofContact             4863 non-null   object \n",
      " 4   CityTier                  4888 non-null   int64  \n",
      " 5   DurationOfPitch           4637 non-null   float64\n",
      " 6   Occupation                4888 non-null   object \n",
      " 7   Gender                    4888 non-null   object \n",
      " 8   NumberOfPersonVisiting    4888 non-null   int64  \n",
      " 9   NumberOfFollowups         4843 non-null   float64\n",
      " 10  ProductPitched            4888 non-null   object \n",
      " 11  PreferredPropertyStar     4862 non-null   float64\n",
      " 12  MaritalStatus             4888 non-null   object \n",
      " 13  NumberOfTrips             4748 non-null   float64\n",
      " 14  Passport                  4888 non-null   int64  \n",
      " 15  PitchSatisfactionScore    4888 non-null   int64  \n",
      " 16  OwnCar                    4888 non-null   int64  \n",
      " 17  NumberOfChildrenVisiting  4822 non-null   float64\n",
      " 18  Designation               4888 non-null   object \n",
      " 19  MonthlyIncome             4655 non-null   float64\n",
      "dtypes: float64(7), int64(7), object(6)\n",
      "memory usage: 763.9+ KB\n"
     ]
    }
   ],
   "source": [
    "df_travel.info()"
   ]
  },
  {
   "cell_type": "markdown",
   "id": "868dc1b9",
   "metadata": {},
   "source": [
    "La descripción de cada una de las columnas de cada uno de los csv se encuentra en el Notebook \"Descripcion\"."
   ]
  },
  {
   "cell_type": "markdown",
   "id": "95d25ea5",
   "metadata": {},
   "source": [
    "Cantidad de datos"
   ]
  },
  {
   "cell_type": "code",
   "execution_count": 5,
   "id": "0a1626b8",
   "metadata": {},
   "outputs": [
    {
     "data": {
      "text/plain": [
       "(4888, 20)"
      ]
     },
     "execution_count": 5,
     "metadata": {},
     "output_type": "execute_result"
    }
   ],
   "source": [
    "df_travel.shape"
   ]
  },
  {
   "cell_type": "markdown",
   "id": "fd7f3399",
   "metadata": {},
   "source": [
    "Formato de los datos"
   ]
  },
  {
   "cell_type": "code",
   "execution_count": 6,
   "id": "a955709e",
   "metadata": {},
   "outputs": [
    {
     "data": {
      "text/plain": [
       "CustomerID                    int64\n",
       "ProdTaken                     int64\n",
       "Age                         float64\n",
       "TypeofContact                object\n",
       "CityTier                      int64\n",
       "DurationOfPitch             float64\n",
       "Occupation                   object\n",
       "Gender                       object\n",
       "NumberOfPersonVisiting        int64\n",
       "NumberOfFollowups           float64\n",
       "ProductPitched               object\n",
       "PreferredPropertyStar       float64\n",
       "MaritalStatus                object\n",
       "NumberOfTrips               float64\n",
       "Passport                      int64\n",
       "PitchSatisfactionScore        int64\n",
       "OwnCar                        int64\n",
       "NumberOfChildrenVisiting    float64\n",
       "Designation                  object\n",
       "MonthlyIncome               float64\n",
       "dtype: object"
      ]
     },
     "execution_count": 6,
     "metadata": {},
     "output_type": "execute_result"
    }
   ],
   "source": [
    "df_travel.dtypes"
   ]
  },
  {
   "cell_type": "markdown",
   "id": "2fe59785",
   "metadata": {},
   "source": [
    "El paso de algunas columnas a su respectivo formato lo realizaremos con PySpark en otro documento"
   ]
  },
  {
   "cell_type": "markdown",
   "id": "fd3f6ec6",
   "metadata": {},
   "source": [
    "# <a name='perdida'><font color=colorMarkdown.MAGENTA>3. PÉRDIDA DE DATOS</font></a>"
   ]
  },
  {
   "cell_type": "markdown",
   "id": "35e969d3",
   "metadata": {},
   "source": [
    "Eliminamos columnas duplicadas"
   ]
  },
  {
   "cell_type": "code",
   "execution_count": 7,
   "id": "2c780876",
   "metadata": {},
   "outputs": [
    {
     "data": {
      "text/plain": [
       "(4888, 20)"
      ]
     },
     "execution_count": 7,
     "metadata": {},
     "output_type": "execute_result"
    }
   ],
   "source": [
    "df_travel = df_travel.drop_duplicates()\n",
    "df_travel.shape"
   ]
  },
  {
   "cell_type": "markdown",
   "id": "b0781681",
   "metadata": {},
   "source": [
    "Miramos la cantidad de datos nulos de cada columna"
   ]
  },
  {
   "cell_type": "code",
   "execution_count": 8,
   "id": "438ebd4f",
   "metadata": {},
   "outputs": [
    {
     "data": {
      "text/plain": [
       "CustomerID                    0\n",
       "ProdTaken                     0\n",
       "Age                         226\n",
       "TypeofContact                25\n",
       "CityTier                      0\n",
       "DurationOfPitch             251\n",
       "Occupation                    0\n",
       "Gender                        0\n",
       "NumberOfPersonVisiting        0\n",
       "NumberOfFollowups            45\n",
       "ProductPitched                0\n",
       "PreferredPropertyStar        26\n",
       "MaritalStatus                 0\n",
       "NumberOfTrips               140\n",
       "Passport                      0\n",
       "PitchSatisfactionScore        0\n",
       "OwnCar                        0\n",
       "NumberOfChildrenVisiting     66\n",
       "Designation                   0\n",
       "MonthlyIncome               233\n",
       "dtype: int64"
      ]
     },
     "execution_count": 8,
     "metadata": {},
     "output_type": "execute_result"
    }
   ],
   "source": [
    "df_travel.isnull().sum()"
   ]
  },
  {
   "cell_type": "markdown",
   "id": "f1993477",
   "metadata": {},
   "source": [
    "# <a name='limpieza'><font color=colorMarkdown.MAGENTA>4. LIMPIEZA DE DATOS</font></a>"
   ]
  },
  {
   "cell_type": "markdown",
   "id": "a362d3b9",
   "metadata": {},
   "source": [
    "Corregimos el error de gender cambiando Fe Male por Female y ProdTaken con Taken and Not Taken"
   ]
  },
  {
   "cell_type": "markdown",
   "id": "d194ff11",
   "metadata": {},
   "source": [
    "#### Gender"
   ]
  },
  {
   "cell_type": "code",
   "execution_count": 9,
   "id": "36257226",
   "metadata": {},
   "outputs": [
    {
     "data": {
      "text/plain": [
       "array(['Female', 'Male', 'Fe Male'], dtype=object)"
      ]
     },
     "execution_count": 9,
     "metadata": {},
     "output_type": "execute_result"
    }
   ],
   "source": [
    "df_travel[\"Gender\"].unique()"
   ]
  },
  {
   "cell_type": "code",
   "execution_count": 10,
   "id": "d93bd7b8",
   "metadata": {},
   "outputs": [
    {
     "data": {
      "text/plain": [
       "Male      2916\n",
       "Female    1972\n",
       "Name: Gender, dtype: int64"
      ]
     },
     "execution_count": 10,
     "metadata": {},
     "output_type": "execute_result"
    }
   ],
   "source": [
    "df_travel['Gender'] = df_travel['Gender'].replace(to_replace='Fe Male',value='Female')\n",
    "df_travel['Gender'].value_counts()"
   ]
  },
  {
   "cell_type": "markdown",
   "id": "94e34494",
   "metadata": {},
   "source": [
    "#### ProdTaken"
   ]
  },
  {
   "cell_type": "code",
   "execution_count": 11,
   "id": "daff62e1",
   "metadata": {},
   "outputs": [
    {
     "data": {
      "text/plain": [
       "Not_taken    3968\n",
       "Taken         920\n",
       "Name: ProdTaken, dtype: int64"
      ]
     },
     "execution_count": 11,
     "metadata": {},
     "output_type": "execute_result"
    }
   ],
   "source": [
    "df_travel['ProdTaken'] = df_travel['ProdTaken'].map({1:'Taken', 0:'Not_taken'})\n",
    "df_travel['ProdTaken'].value_counts()"
   ]
  },
  {
   "cell_type": "markdown",
   "id": "ba7f1274",
   "metadata": {},
   "source": [
    "#### Age"
   ]
  },
  {
   "cell_type": "markdown",
   "id": "a98db6db",
   "metadata": {},
   "source": [
    "Para rellenar los nulos de la columna \"Age\", creamos una lista Series que siga una distribución normal usando la media y la desviación típica de las edades existentes en el dataframe, y después utilizamos esa lista para rellenar los nulos de la columna."
   ]
  },
  {
   "cell_type": "code",
   "execution_count": 12,
   "id": "539115f3",
   "metadata": {},
   "outputs": [],
   "source": [
    "rng = np.random.default_rng(0)\n",
    "mu = df_travel['Age'].mean()\n",
    "sd = df_travel['Age'].std()\n",
    "\n",
    "filler = rng.normal(loc=mu, scale=sd, size=len(df_travel))\n",
    "df_travel['Age'] = df_travel['Age'].fillna(pd.Series(filler))\n",
    "df_travel['Age'] = round(df_travel['Age'], 0)"
   ]
  },
  {
   "cell_type": "markdown",
   "id": "8e377dc8",
   "metadata": {},
   "source": [
    "#### DurationOfPitch y NumberOfFollowups"
   ]
  },
  {
   "cell_type": "markdown",
   "id": "e89ba161",
   "metadata": {},
   "source": [
    "Mismo procedimiento que con \"Age\", nos aseguramos que los valores sean únicamente positivos con abs()."
   ]
  },
  {
   "cell_type": "code",
   "execution_count": 13,
   "id": "9522a84f",
   "metadata": {},
   "outputs": [],
   "source": [
    "mu = df_travel['DurationOfPitch'].mean()\n",
    "sd = df_travel['DurationOfPitch'].std()\n",
    "\n",
    "filler = rng.normal(loc=mu, scale=sd, size=len(df_travel))\n",
    "filler = abs(filler)\n",
    "df_travel['DurationOfPitch'] = df_travel['DurationOfPitch'].fillna(pd.Series(filler))\n",
    "df_travel['DurationOfPitch'] = round(df_travel['DurationOfPitch'], 0)"
   ]
  },
  {
   "cell_type": "code",
   "execution_count": 14,
   "id": "171bdb46",
   "metadata": {},
   "outputs": [],
   "source": [
    "mu = df_travel['NumberOfFollowups'].mean()\n",
    "sd = df_travel['NumberOfFollowups'].std()\n",
    "\n",
    "filler = rng.normal(loc=mu, scale=sd, size=len(df_travel))\n",
    "filler = abs(filler)\n",
    "df_travel['NumberOfFollowups'] = df_travel['NumberOfFollowups'].fillna(pd.Series(filler))\n",
    "df_travel['NumberOfFollowups'] = round(df_travel['NumberOfFollowups'], 0)"
   ]
  },
  {
   "cell_type": "markdown",
   "id": "1d572daa",
   "metadata": {},
   "source": [
    "#### NumberOfTrips"
   ]
  },
  {
   "cell_type": "markdown",
   "id": "60ba41dc",
   "metadata": {},
   "source": [
    "El número de viajes realizados por cada persona sigue una distribución gamma(1, 2.5) por ello seguimos el mismo procedimiento que el resto de variables pero con una distribución gamma."
   ]
  },
  {
   "cell_type": "code",
   "execution_count": 15,
   "id": "7f3f5152",
   "metadata": {},
   "outputs": [],
   "source": [
    "filler = rng.gamma(shape=1, scale=2.5, size=len(df_travel))\n",
    "df_travel['NumberOfTrips'] = df_travel['NumberOfTrips'].fillna(pd.Series(filler))\n",
    "df_travel['NumberOfTrips'] = round(df_travel['NumberOfTrips'], 0)"
   ]
  },
  {
   "cell_type": "markdown",
   "id": "8f292a5c",
   "metadata": {},
   "source": [
    "#### MonthlyIncome"
   ]
  },
  {
   "cell_type": "markdown",
   "id": "b9c63f96",
   "metadata": {},
   "source": [
    "Aquí el proceso es el mismo que con la edad, sin embargo, tenemos en cuenta el cargo/la posición (Designation) que ocupa cada persona en su empresa para el tratamiento de los nulos."
   ]
  },
  {
   "cell_type": "code",
   "execution_count": 16,
   "id": "f8ca6012",
   "metadata": {
    "scrolled": true
   },
   "outputs": [
    {
     "data": {
      "text/plain": [
       "Executive         1842\n",
       "Manager           1732\n",
       "Senior Manager     742\n",
       "AVP                342\n",
       "VP                 230\n",
       "Name: Designation, dtype: int64"
      ]
     },
     "execution_count": 16,
     "metadata": {},
     "output_type": "execute_result"
    }
   ],
   "source": [
    "df_travel['Designation'].value_counts()"
   ]
  },
  {
   "cell_type": "code",
   "execution_count": 17,
   "id": "95d24853",
   "metadata": {},
   "outputs": [],
   "source": [
    "df_travel_groups = df_travel[['Designation', 'MonthlyIncome']]\n",
    "pos_means = df_travel_groups.groupby(['Designation']).mean()\n",
    "pos_std = df_travel_groups.groupby(['Designation']).std()"
   ]
  },
  {
   "cell_type": "code",
   "execution_count": 18,
   "id": "ff7a8cfb",
   "metadata": {
    "scrolled": false
   },
   "outputs": [
    {
     "name": "stderr",
     "output_type": "stream",
     "text": [
      "C:\\Users\\Pablo Ribas Borrego\\Downloads\\Anaconda\\lib\\site-packages\\pandas\\core\\indexing.py:1637: SettingWithCopyWarning: \n",
      "A value is trying to be set on a copy of a slice from a DataFrame\n",
      "\n",
      "See the caveats in the documentation: https://pandas.pydata.org/pandas-docs/stable/user_guide/indexing.html#returning-a-view-versus-a-copy\n",
      "  self._setitem_single_block(indexer, value, name)\n"
     ]
    }
   ],
   "source": [
    "n = len(df_travel)\n",
    "\n",
    "for i in range(0, n):\n",
    "    if np.isnan(df_travel['MonthlyIncome'].iloc[i]):\n",
    "        if df_travel['Designation'].iloc[i] == 'AVP':\n",
    "            df_travel['MonthlyIncome'].iloc[i] = round(rd.normalvariate(pos_means['MonthlyIncome'].loc['AVP'], pos_means['MonthlyIncome'].loc['AVP']), 0)\n",
    "        if df_travel['Designation'].iloc[i] == 'Executive':\n",
    "            df_travel['MonthlyIncome'].iloc[i] = round(rd.normalvariate(pos_means['MonthlyIncome'].loc['Executive'], pos_means['MonthlyIncome'].loc['Executive']), 0)\n",
    "        if df_travel['Designation'].iloc[i] == 'Manager':\n",
    "            df_travel['MonthlyIncome'].iloc[i] = round(rd.normalvariate(pos_means['MonthlyIncome'].loc['Manager'], pos_means['MonthlyIncome'].loc['Manager']), 0)\n",
    "        if df_travel['Designation'].iloc[i] == 'Senior Manager':\n",
    "            df_travel['MonthlyIncome'].iloc[i] = round(rd.normalvariate(pos_means['MonthlyIncome'].loc['Senior Manager'], pos_means['MonthlyIncome'].loc['Senior Manager']), 0)\n",
    "        if df_travel['Designation'].iloc[i] == 'VP':\n",
    "            df_travel['MonthlyIncome'].iloc[i] = round(rd.normalvariate(pos_means['MonthlyIncome'].loc['VP'], pos_means['MonthlyIncome'].loc['VP']), 0)\n",
    "    else:\n",
    "        pass"
   ]
  },
  {
   "cell_type": "markdown",
   "id": "2079ad36",
   "metadata": {},
   "source": [
    "Algunos valores salen negativos, lo arreglamos con valores absolutos."
   ]
  },
  {
   "cell_type": "code",
   "execution_count": 19,
   "id": "ae253a52",
   "metadata": {},
   "outputs": [
    {
     "data": {
      "text/plain": [
       "38"
      ]
     },
     "execution_count": 19,
     "metadata": {},
     "output_type": "execute_result"
    }
   ],
   "source": [
    "df_travel['MonthlyIncome'].where(df_travel['MonthlyIncome'] < 0).count()"
   ]
  },
  {
   "cell_type": "code",
   "execution_count": 20,
   "id": "aa06c806",
   "metadata": {},
   "outputs": [],
   "source": [
    "df_travel['MonthlyIncome'] = abs(df_travel['MonthlyIncome'])"
   ]
  },
  {
   "cell_type": "code",
   "execution_count": 21,
   "id": "2e860b08",
   "metadata": {},
   "outputs": [
    {
     "data": {
      "text/plain": [
       "0"
      ]
     },
     "execution_count": 21,
     "metadata": {},
     "output_type": "execute_result"
    }
   ],
   "source": [
    "df_travel['MonthlyIncome'].where(df_travel['MonthlyIncome'] < 0).count()"
   ]
  },
  {
   "cell_type": "markdown",
   "id": "d3b2a21c",
   "metadata": {},
   "source": [
    "#### TypeofContact"
   ]
  },
  {
   "cell_type": "markdown",
   "id": "17ee0c7e",
   "metadata": {},
   "source": [
    "Para el tipo de contacto, tomamos las probabilidades de los dos tipos de contactos que hay dividiendo el count de esos valores entre el número de valores no nulos totales. Una vez hecho eso, creamos un filler que luego aplicamos al dataframe para tratar los nulos."
   ]
  },
  {
   "cell_type": "code",
   "execution_count": 22,
   "id": "ed492808",
   "metadata": {},
   "outputs": [
    {
     "data": {
      "text/plain": [
       "Self Enquiry       3444\n",
       "Company Invited    1419\n",
       "Name: TypeofContact, dtype: int64"
      ]
     },
     "execution_count": 22,
     "metadata": {},
     "output_type": "execute_result"
    }
   ],
   "source": [
    "df_travel['TypeofContact'].value_counts()"
   ]
  },
  {
   "cell_type": "code",
   "execution_count": 23,
   "id": "48a47663",
   "metadata": {},
   "outputs": [],
   "source": [
    "prob_se = 3444/(4888-25)\n",
    "prob_ci = 1 - prob_se\n",
    "tipo_contacto = [\"Self Enquiry\", \"Company Invited\"]\n",
    "prob_tipo_contacto = [prob_se, prob_ci]"
   ]
  },
  {
   "cell_type": "code",
   "execution_count": 24,
   "id": "f36c52d4",
   "metadata": {},
   "outputs": [],
   "source": [
    "n = len(df_travel)\n",
    "tipo_contacto_filler = []\n",
    "for i in range (0, n):\n",
    "    tipo_contacto_filler.append(np.random.choice(tipo_contacto, p = prob_tipo_contacto))"
   ]
  },
  {
   "cell_type": "code",
   "execution_count": 25,
   "id": "87f80299",
   "metadata": {},
   "outputs": [],
   "source": [
    "df_travel['TypeofContact'] = df_travel['TypeofContact'].fillna(pd.Series(tipo_contacto_filler))"
   ]
  },
  {
   "cell_type": "markdown",
   "id": "44a84244",
   "metadata": {},
   "source": [
    "#### PreferredPropertyStar"
   ]
  },
  {
   "cell_type": "markdown",
   "id": "bf8bd498",
   "metadata": {},
   "source": [
    "Mismo procedimiento que TypeofContact."
   ]
  },
  {
   "cell_type": "code",
   "execution_count": 26,
   "id": "a3c138d6",
   "metadata": {},
   "outputs": [
    {
     "data": {
      "text/plain": [
       "3.0    2993\n",
       "5.0     956\n",
       "4.0     913\n",
       "Name: PreferredPropertyStar, dtype: int64"
      ]
     },
     "execution_count": 26,
     "metadata": {},
     "output_type": "execute_result"
    }
   ],
   "source": [
    "df_travel['PreferredPropertyStar'].value_counts()"
   ]
  },
  {
   "cell_type": "code",
   "execution_count": 27,
   "id": "a37ce793",
   "metadata": {},
   "outputs": [],
   "source": [
    "prob_3 = 2993/(4888-26)\n",
    "prob_4 = 956/(4888-26)\n",
    "prob_5 = 1 - prob_3 - prob_4\n",
    "numero_estrellas = [3.0, 4.0, 5.0]\n",
    "prob_numero_estrellas = [prob_3, prob_4, prob_5]"
   ]
  },
  {
   "cell_type": "code",
   "execution_count": 28,
   "id": "e3e3bf04",
   "metadata": {},
   "outputs": [],
   "source": [
    "n = len(df_travel)\n",
    "numero_estrellas_filler = []\n",
    "for i in range (0, n):\n",
    "    numero_estrellas_filler.append(np.random.choice(numero_estrellas, p = prob_numero_estrellas))"
   ]
  },
  {
   "cell_type": "code",
   "execution_count": 29,
   "id": "40b7fc57",
   "metadata": {},
   "outputs": [],
   "source": [
    "df_travel['PreferredPropertyStar'] = df_travel['PreferredPropertyStar'].fillna(pd.Series(numero_estrellas_filler))"
   ]
  },
  {
   "cell_type": "markdown",
   "id": "8fa80650",
   "metadata": {},
   "source": [
    "#### NumberOfChildrenVisiting"
   ]
  },
  {
   "cell_type": "markdown",
   "id": "0fd96234",
   "metadata": {},
   "source": [
    "Mismo procedimiento que TypeofContact."
   ]
  },
  {
   "cell_type": "code",
   "execution_count": 30,
   "id": "f3aad302",
   "metadata": {},
   "outputs": [
    {
     "data": {
      "text/plain": [
       "1.0    2080\n",
       "2.0    1335\n",
       "0.0    1082\n",
       "3.0     325\n",
       "Name: NumberOfChildrenVisiting, dtype: int64"
      ]
     },
     "execution_count": 30,
     "metadata": {},
     "output_type": "execute_result"
    }
   ],
   "source": [
    "df_travel['NumberOfChildrenVisiting'].value_counts()"
   ]
  },
  {
   "cell_type": "code",
   "execution_count": 31,
   "id": "9d685520",
   "metadata": {},
   "outputs": [],
   "source": [
    "prob_0 = 1082/(4888-66)\n",
    "prob_1 = 2080/(4888-66)\n",
    "prob_2 = 1335/(4888-66)\n",
    "prob_3 = 1 - prob_0 - prob_1 - prob_2\n",
    "numero_niños = [0.0, 1.0, 2.0, 3.0]\n",
    "prob_numero_niños = [prob_0, prob_1, prob_2, prob_3]"
   ]
  },
  {
   "cell_type": "code",
   "execution_count": 32,
   "id": "45b02526",
   "metadata": {},
   "outputs": [],
   "source": [
    "n = len(df_travel)\n",
    "numero_niños_filler = []\n",
    "for i in range (0, n):\n",
    "    numero_niños_filler.append(np.random.choice(numero_niños, p = prob_numero_niños))"
   ]
  },
  {
   "cell_type": "code",
   "execution_count": 33,
   "id": "a71da5ed",
   "metadata": {},
   "outputs": [],
   "source": [
    "df_travel['NumberOfChildrenVisiting'] = df_travel['NumberOfChildrenVisiting'].fillna(pd.Series(numero_niños_filler))"
   ]
  },
  {
   "cell_type": "markdown",
   "id": "3fc88889",
   "metadata": {},
   "source": [
    "#### Comprobamos que no queden nulos."
   ]
  },
  {
   "cell_type": "code",
   "execution_count": 34,
   "id": "9eb242a6",
   "metadata": {
    "scrolled": true
   },
   "outputs": [
    {
     "data": {
      "text/plain": [
       "CustomerID                  0\n",
       "ProdTaken                   0\n",
       "Age                         0\n",
       "TypeofContact               0\n",
       "CityTier                    0\n",
       "DurationOfPitch             0\n",
       "Occupation                  0\n",
       "Gender                      0\n",
       "NumberOfPersonVisiting      0\n",
       "NumberOfFollowups           0\n",
       "ProductPitched              0\n",
       "PreferredPropertyStar       0\n",
       "MaritalStatus               0\n",
       "NumberOfTrips               0\n",
       "Passport                    0\n",
       "PitchSatisfactionScore      0\n",
       "OwnCar                      0\n",
       "NumberOfChildrenVisiting    0\n",
       "Designation                 0\n",
       "MonthlyIncome               0\n",
       "dtype: int64"
      ]
     },
     "execution_count": 34,
     "metadata": {},
     "output_type": "execute_result"
    }
   ],
   "source": [
    "df_travel.isnull().sum()"
   ]
  },
  {
   "cell_type": "markdown",
   "id": "6dfb77cc",
   "metadata": {},
   "source": [
    "# <a name='exportacion'><font color=colorMarkdown.MAGENTA>5. EXPORTACIÓN CSV</font></a>"
   ]
  },
  {
   "cell_type": "code",
   "execution_count": 35,
   "id": "37442dec",
   "metadata": {},
   "outputs": [],
   "source": [
    "df_travel.to_csv(r'datasets_Final/df_travel_V2.csv', index=False)"
   ]
  },
  {
   "cell_type": "markdown",
   "id": "680629a2",
   "metadata": {},
   "source": [
    "# <a name='EDA'><font color=colorMarkdown.MAGENTA>6. EDA</font></a>"
   ]
  },
  {
   "cell_type": "code",
   "execution_count": 36,
   "id": "96f10d91",
   "metadata": {},
   "outputs": [],
   "source": [
    "#librería para el cálculo numérico y el análisis de datos\n",
    "import numpy as np\n",
    "#librería para el manejo y análisis de estructuras de datos\n",
    "import pandas as pd\n",
    "#librerias de gráficas\n",
    "import matplotlib.pyplot as plt\n",
    "import seaborn as sns\n",
    "import plotly.express as px #pip install plotly"
   ]
  },
  {
   "cell_type": "code",
   "execution_count": 37,
   "id": "9be9a0ab",
   "metadata": {},
   "outputs": [
    {
     "data": {
      "image/png": "[encoded data removed]",
      "text/plain": [
       "<Figure size 432x288 with 1 Axes>"
      ]
     },
     "metadata": {
      "needs_background": "light"
     },
     "output_type": "display_data"
    }
   ],
   "source": [
    "Taken=df_travel[df_travel['ProdTaken']==\"Taken\"]['Gender'].value_counts()\n",
    "Not_Taken=df_travel[df_travel['ProdTaken']==\"Not_taken\"]['Gender'].value_counts()\n",
    "df=pd.DataFrame([Taken,Not_Taken])\n",
    "df.index=['Taken','Not_taken']\n",
    "df.plot(kind='bar');"
   ]
  },
  {
   "cell_type": "code",
   "execution_count": 38,
   "id": "6aff7677",
   "metadata": {},
   "outputs": [
    {
     "data": {
      "image/png": "[encoded data removed]",
      "text/plain": [
       "<Figure size 432x288 with 1 Axes>"
      ]
     },
     "metadata": {
      "needs_background": "light"
     },
     "output_type": "display_data"
    }
   ],
   "source": [
    "Taken=df_travel[df_travel['ProdTaken']==\"Taken\"]['CityTier'].value_counts()\n",
    "Not_Taken=df_travel[df_travel['ProdTaken']==\"Not_taken\"]['CityTier'].value_counts()\n",
    "df=pd.DataFrame([Taken,Not_Taken])\n",
    "df.index=['Taken','Not_taken']\n",
    "df.plot(kind='bar');"
   ]
  },
  {
   "cell_type": "code",
   "execution_count": 39,
   "id": "bd8769cd",
   "metadata": {},
   "outputs": [
    {
     "data": {
      "image/png": "[encoded data removed]",
      "text/plain": [
       "<Figure size 360x360 with 1 Axes>"
      ]
     },
     "metadata": {
      "needs_background": "light"
     },
     "output_type": "display_data"
    }
   ],
   "source": [
    "sns.displot(df_travel.MonthlyIncome, palette= 'rainbow', color = 'red', kde = True);"
   ]
  },
  {
   "cell_type": "code",
   "execution_count": 40,
   "id": "37522839",
   "metadata": {},
   "outputs": [
    {
     "data": {
      "image/png": "[encoded data removed]",
      "text/plain": [
       "<Figure size 360x360 with 1 Axes>"
      ]
     },
     "metadata": {
      "needs_background": "light"
     },
     "output_type": "display_data"
    }
   ],
   "source": [
    "sns.catplot(x = \"Age\", data = df_travel, kind = \"count\");"
   ]
  },
  {
   "cell_type": "code",
   "execution_count": 41,
   "id": "75b2dfca",
   "metadata": {
    "scrolled": true
   },
   "outputs": [
    {
     "data": {
      "text/plain": [
       "<AxesSubplot:ylabel='Frequency'>"
      ]
     },
     "execution_count": 41,
     "metadata": {},
     "output_type": "execute_result"
    },
    {
     "data": {
      "image/png": "[encoded data removed]",
      "text/plain": [
       "<Figure size 432x288 with 1 Axes>"
      ]
     },
     "metadata": {
      "needs_background": "light"
     },
     "output_type": "display_data"
    }
   ],
   "source": [
    "df_travel['DurationOfPitch'].plot(kind='hist', bins = 60)"
   ]
  },
  {
   "cell_type": "code",
   "execution_count": 42,
   "id": "285e696c",
   "metadata": {
    "scrolled": true
   },
   "outputs": [
    {
     "data": {
      "text/plain": [
       "<matplotlib.legend.Legend at 0x149c072d790>"
      ]
     },
     "execution_count": 42,
     "metadata": {},
     "output_type": "execute_result"
    },
    {
     "data": {
      "image/png": "[encoded data removed]",
      "text/plain": [
       "<Figure size 432x288 with 1 Axes>"
      ]
     },
     "metadata": {
      "needs_background": "light"
     },
     "output_type": "display_data"
    }
   ],
   "source": [
    "from scipy.stats import gamma\n",
    "import matplotlib.pyplot as plt\n",
    "fig2, ax = plt.subplots(1, 1)\n",
    "a = 2.5\n",
    "mean, var, skew, kurt = gamma.stats(a, moments='mvsk')\n",
    "x = np.linspace(gamma.ppf(0.01, a),\n",
    "                gamma.ppf(0.99, a), 100)\n",
    "ax.plot(x, gamma.pdf(x, a),\n",
    "       'r-', lw=5, alpha=1, label='gamma pdf')\n",
    "rv = gamma(a)\n",
    "ax.plot(x, rv.pdf(x), 'k-', lw=2, label='frozen pdf')\n",
    "ax.hist(df_travel['NumberOfTrips'], density=True, histtype='stepfilled', alpha=0.2)\n",
    "ax.legend(loc='best', frameon=False)"
   ]
  },
  {
   "cell_type": "code",
   "execution_count": 43,
   "id": "b4446d3f",
   "metadata": {
    "scrolled": true
   },
   "outputs": [
    {
     "data": {
      "text/plain": [
       "<AxesSubplot:ylabel='Frequency'>"
      ]
     },
     "execution_count": 43,
     "metadata": {},
     "output_type": "execute_result"
    },
    {
     "data": {
      "image/png": "[encoded data removed]",
      "text/plain": [
       "<Figure size 432x288 with 1 Axes>"
      ]
     },
     "metadata": {
      "needs_background": "light"
     },
     "output_type": "display_data"
    }
   ],
   "source": [
    "df_travel['NumberOfFollowups'].plot(kind='hist', bins = 50)"
   ]
  },
  {
   "cell_type": "code",
   "execution_count": 44,
   "id": "45098cc8",
   "metadata": {},
   "outputs": [
    {
     "data": {
      "text/plain": [
       "<AxesSubplot:ylabel='Frequency'>"
      ]
     },
     "execution_count": 44,
     "metadata": {},
     "output_type": "execute_result"
    },
    {
     "data": {
      "image/png": "[encoded data removed]",
      "text/plain": [
       "<Figure size 432x288 with 1 Axes>"
      ]
     },
     "metadata": {
      "needs_background": "light"
     },
     "output_type": "display_data"
    }
   ],
   "source": [
    "df_travel['NumberOfFollowups'].plot(kind='hist')"
   ]
  },
  {
   "cell_type": "code",
   "execution_count": 45,
   "id": "fe91dc98",
   "metadata": {},
   "outputs": [
    {
     "data": {
      "text/plain": [
       "<AxesSubplot:ylabel='Frequency'>"
      ]
     },
     "execution_count": 45,
     "metadata": {},
     "output_type": "execute_result"
    },
    {
     "data": {
      "image/png": "[encoded data removed]",
      "text/plain": [
       "<Figure size 432x288 with 1 Axes>"
      ]
     },
     "metadata": {
      "needs_background": "light"
     },
     "output_type": "display_data"
    }
   ],
   "source": [
    "df_travel['PreferredPropertyStar'].plot(kind='hist', bins = 30)"
   ]
  },
  {
   "cell_type": "code",
   "execution_count": 46,
   "id": "9d4f0fe1",
   "metadata": {},
   "outputs": [
    {
     "data": {
      "text/plain": [
       "<AxesSubplot:ylabel='Frequency'>"
      ]
     },
     "execution_count": 46,
     "metadata": {},
     "output_type": "execute_result"
    },
    {
     "data": {
      "image/png": "[encoded data removed]",
      "text/plain": [
       "<Figure size 432x288 with 1 Axes>"
      ]
     },
     "metadata": {
      "needs_background": "light"
     },
     "output_type": "display_data"
    }
   ],
   "source": [
    "df_travel['NumberOfChildrenVisiting'].plot(kind='hist')"
   ]
  },
  {
   "cell_type": "markdown",
   "id": "34874e8f",
   "metadata": {},
   "source": [
    "____"
   ]
  }
 ],
 "metadata": {
  "kernelspec": {
   "display_name": "Python 3",
   "language": "python",
   "name": "python3"
  },
  "language_info": {
   "codemirror_mode": {
    "name": "ipython",
    "version": 3
   },
   "file_extension": ".py",
   "mimetype": "text/x-python",
   "name": "python",
   "nbconvert_exporter": "python",
   "pygments_lexer": "ipython3",
   "version": "3.8.8"
  }
 },
 "nbformat": 4,
 "nbformat_minor": 5
}
