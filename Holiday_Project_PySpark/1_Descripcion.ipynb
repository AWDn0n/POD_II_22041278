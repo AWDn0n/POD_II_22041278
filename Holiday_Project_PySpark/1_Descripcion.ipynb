{
 "cells": [
  {
   "cell_type": "markdown",
   "id": "4a8b50f8",
   "metadata": {},
   "source": [
    "# DESCRIPCIÓN DEL PROYECTO \"VACACIONES\""
   ]
  },
  {
   "cell_type": "markdown",
   "id": "f972a3e2",
   "metadata": {},
   "source": [
    "Índice:\n",
    "En este documento se encuentra todo el manejo de los datos para luego poder tratar con ellos:\n",
    ">1. [Contexto](#contexto)\n",
    "2. [Contenido](#contenido)\n",
    "3. [Inspiración](#inspiracion)\n",
    "4. [Objetivos](#objetivos)\n",
    "5. [Referencias](#referencias)"
   ]
  },
  {
   "cell_type": "markdown",
   "id": "5fec1972",
   "metadata": {},
   "source": [
    "![FOTO DE VACACIONES](./imagenes/dataset-cover.jpg) "
   ]
  },
  {
   "cell_type": "markdown",
   "id": "a63b5f10",
   "metadata": {},
   "source": [
    "## <a name='contexto'><font color=colorMarkdown.MAGENTA>1. CONTEXTO</font></a>"
   ]
  },
  {
   "cell_type": "markdown",
   "id": "66d0486b",
   "metadata": {},
   "source": [
    "La empresa **\"Trips & Travel.com\"** quiere habilitar y establecer un modelo de negocio viable para ampliar la base de clientes. Una de las formas de expandir la base de clientes es presentar una nueva oferta de paquetes. Actualmente, hay 5 tipos de paquetes que ofrece la compañía: Básico, Estándar, Deluxe, Super Deluxe, King. Mirando los datos del último año, observamos que el 18% de los clientes compraron los paquetes. Sin embargo, el costo de mercadeo fue bastante alto porque los clientes fueron contactados al azar sin mirar la información disponible. La compañía ahora planea lanzar un nuevo producto, es decir, Paquete de Turismo de Bienestar. El turismo de bienestar se define como un viaje que permite al viajero mantener, mejorar o impulsar un estilo de vida saludable y apoyar o aumentar la propia sensación de bienestar. "
   ]
  },
  {
   "cell_type": "markdown",
   "id": "e04fcfbf",
   "metadata": {},
   "source": [
    "## <a name='contenido'><font color=colorMarkdown.MAGENTA>2. CONTENIDO</font></a>"
   ]
  },
  {
   "cell_type": "markdown",
   "id": "51ef1672",
   "metadata": {},
   "source": [
    "Existe un dataset formado por 20 columnas y 4888 filas. La descripción de cada una de estas columnas es la siguiente:"
   ]
  },
  {
   "cell_type": "markdown",
   "id": "3afa81dc",
   "metadata": {},
   "source": [
    "|  NOMBRE COLUMNA   |                     SIGNIFICADO                        | \n",
    "|-------------------|--------------------------------------------------------|\n",
    "| CustomerID        | Identificador único del cliente                        | \n",
    "| ProdTaken         | Variable objetivo para predecir si el cliente compra el paquete de viaje                                          |\n",
    "| Age               | Edad del cliente           | \n",
    "| TypeofContact     | Como fueron contactados los clientes (\"Company Invited\" or \"Self Inquiry\")                                    | \n",
    "| CityTier      \t| El nivel de la ciudad depende del desarrollo de la ciudad, población, las instalaciones y el nivel de vida. Las categorías se encuentras ordenadas del 1 al 3.                                | \n",
    "| DurationOfPitch   | Duración del pitch de un vendedor al cliente          | \n",
    "| Occupation\t    | Ocupación del cliente (salaried, small buisness...)        | \n",
    "| Gender            | Sexo del cliente        |\n",
    "| NumberOfPersonVisiting      | Número de personas totales que planean realizar el viaje con el cliente   | \n",
    "| NumberOfFollowups       | El vendedor ha realizado el número total de seguimientos después del argumento de venta| \n",
    "| ProductPitched   \t| Producto presentado por el vendedor            | \n",
    "| PreferredPropertyStar          | Valoración de la propiedad hotelera preferida por el cliente| \n",
    "| MaritalStatus       \t| Estado civil del cliente                               | \n",
    "| NumberOfTrips      | Promedio de viajes en un año por cliente  | \n",
    "| Passport       \t| Si el cliente tiene pasaporte o no (0: No, 1: Yes)       | \n",
    "| PitchSatisfactionScore       | Puntaje de satisfacción del argumento de venta | \n",
    "| OwnCar   \t| Si los clientes tienen coche o no (0: No, 1: Yes)       | \n",
    "| NumberOfChildrenVisiting      | Número total de niños menores de 5 años que planean realizar el viaje con el cliente | \n",
    "| Designation\t| Designación del cliente en la organización actual                       | \n",
    "| MonthlyIncome   | Ingreso bruto mensual del cliente     | "
   ]
  },
  {
   "cell_type": "markdown",
   "id": "4e09570c",
   "metadata": {},
   "source": [
    "Las cosas a tener en cuenta son:\n",
    "\n",
    "* Características más importantes que tienen un impacto en el producto tomado: designación, pasaporte, ciudad de nivel, estado civil, ocupación.\n",
    "\n",
    "\n",
    "* Los clientes con designación como ejecutivos deben ser los clientes objetivo de la empresa. Los clientes que tienen pasaporte, son de una ciudad de nivel 3 y son solteros o no casados, tienen grandes negocios, por lo que tienen mayores posibilidades de tomar un nuevo paquete.\n",
    "\n",
    "\n",
    "* Los clientes con ingresos mensuales en el rango de 15000-25000 y rango de edad de 15-30, prefieren propiedades de 5 estrellas y también tienen mayores posibilidades de tomar un nuevo paquete según EDA."
   ]
  },
  {
   "cell_type": "markdown",
   "id": "a689471b",
   "metadata": {},
   "source": [
    "## <a name='inspiracion'><font color=colorMarkdown.MAGENTA>3. INSPIRACIÓN</font></a>"
   ]
  },
  {
   "cell_type": "markdown",
   "id": "5d5bc2f9",
   "metadata": {},
   "source": [
    "Necesitamos analizar los datos y la información de los clientes para proporcionar recomendaciones al responsable de la formulación de políticas y al equipo de marketing, y también crear un modelo para predecir el cliente potencial que comprará el paquete de viaje recién introducido."
   ]
  },
  {
   "cell_type": "markdown",
   "id": "e30d44e9",
   "metadata": {},
   "source": [
    "## <a name='objetivos'><font color=colorMarkdown.MAGENTA>4. OBJETIVOS</font></a>"
   ]
  },
  {
   "cell_type": "markdown",
   "id": "d7732fc5",
   "metadata": {},
   "source": [
    "* Para predecir qué cliente es más probable que compre el paquete de viaje recién introducido.\n",
    "* Qué variables son las más significativas.\n",
    "* A qué segmento de clientes se debe apuntar más."
   ]
  },
  {
   "cell_type": "markdown",
   "id": "ee989fae",
   "metadata": {},
   "source": [
    "## <a name='referencias'><font color=colorMarkdown.MAGENTA>5. REFERENCIAS</font></a>"
   ]
  },
  {
   "cell_type": "markdown",
   "id": "f15e44ba",
   "metadata": {},
   "source": [
    "* [Dataset Kaggel Holiday_Package_Prediction](https://www.kaggle.com/datasets/susant4learning/holiday-package-purchase-prediction?select=Travel.csv)"
   ]
  }
 ],
 "metadata": {
  "kernelspec": {
   "display_name": "Python 3",
   "language": "python",
   "name": "python3"
  },
  "language_info": {
   "codemirror_mode": {
    "name": "ipython",
    "version": 3
   },
   "file_extension": ".py",
   "mimetype": "text/x-python",
   "name": "python",
   "nbconvert_exporter": "python",
   "pygments_lexer": "ipython3",
   "version": "3.8.8"
  }
 },
 "nbformat": 4,
 "nbformat_minor": 5
}
